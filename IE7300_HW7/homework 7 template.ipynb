{
 "cells": [
  {
   "cell_type": "code",
   "execution_count": 1,
   "metadata": {},
   "outputs": [
    {
     "name": "stdout",
     "output_type": "stream",
     "text": [
      "IE 7300: Statistical learning for Engineering\n",
      "\n",
      "\n",
      "\n",
      "\n",
      "\n",
      "\n",
      "\n",
      "\n",
      "\n",
      "\n",
      "\n",
      "\n",
      "\n",
      "\n",
      "\n",
      "\n",
      "Homework -7\n",
      "Student name :Michael K\n",
      "Student Email :m.k@northeastern.edu\n",
      "\n",
      "\n",
      "\n",
      "\n",
      "\n",
      "\n",
      "\n",
      "\n",
      "\n",
      "\n",
      "\n",
      "\n",
      "\n",
      "\n",
      "\n",
      "\n",
      "Percentage of Effort Contributed by Student : 0%\n",
      "Submission Date: 2022-11-01\n"
     ]
    }
   ],
   "source": [
    "from datetime import date\n",
    "studentName=\"Michael K\"\n",
    "studentEmail=\"m.k@northeastern.edu\"\n",
    "homework=7\n",
    "contributedPercentage=0\n",
    "print(\"IE 7300: Statistical learning for Engineering\")\n",
    "print(\"\\n\"*15)\n",
    "print(f'Homework -{homework}')\n",
    "print(f'Student name :{studentName}')\n",
    "print(f'Student Email :{studentEmail}')\n",
    "print(\"\\n\"*15)\n",
    "print(f'Percentage of Effort Contributed by Student : {contributedPercentage}%')\n",
    "print(f'Submission Date: {date.today()}')"
   ]
  },
  {
   "cell_type": "code",
   "execution_count": 1,
   "metadata": {},
   "outputs": [],
   "source": [
    "## imports ##\n",
    "import numpy as np\n",
    "import pandas as pd\n",
    "import matplotlib.pyplot as plt\n",
    "\n",
    "from sklearn.datasets import load_boston\n",
    "from sklearn.preprocessing import StandardScaler\n",
    "\n",
    "#Custom decision tree regressor\n",
    "from statmodels.decisiontrees import decisiontreeregressor\n",
    "#Custom random forest regressor\n",
    "from statmodels.random_forest import RandomForestRegressor\n",
    "#Custom lasso regressor\n",
    "from statmodels.regression import LassoRegression\n",
    "#Custom gradient boosting regressor\n",
    "from statmodels.gradientboosting import GradientBoostTreeRegressor\n",
    "\n",
    "#Find performance\n",
    "from sklearn.metrics import mean_squared_error, r2_score"
   ]
  },
  {
   "cell_type": "markdown",
   "metadata": {},
   "source": [
    "## Boston House Prices Dataset - Regression\n",
    "\n",
    "We can now look at a regression problem, the boston house prices dataset. Let's import these data into the notebook, and do some exploratory analysis."
   ]
  },
  {
   "cell_type": "code",
   "execution_count": 2,
   "metadata": {},
   "outputs": [],
   "source": [
    "import warnings\n",
    "warnings.filterwarnings(\"ignore\")\n",
    "\n",
    "#load the boston dataset\n",
    "data = load_boston()\n",
    "#obtain input data\n",
    "X = data.data\n",
    "#obtain labels\n",
    "Y = data.target\n",
    "#obtain input labels\n",
    "names = data.feature_names\n",
    "#convert input features to dataframe\n",
    "dfX = pd.DataFrame(X,columns=names)"
   ]
  },
  {
   "cell_type": "code",
   "execution_count": 3,
   "metadata": {},
   "outputs": [],
   "source": [
    "#create a random forest with default values\n",
    "rfr = RandomForestRegressor()"
   ]
  },
  {
   "cell_type": "code",
   "execution_count": 4,
   "metadata": {},
   "outputs": [],
   "source": [
    "## train the ensemble & view estimates for prediction error ##\n",
    "rfr.fit(dfX.values,Y)\n",
    "y_hat = rfr.predict(X)"
   ]
  },
  {
   "cell_type": "code",
   "execution_count": 5,
   "metadata": {},
   "outputs": [
    {
     "name": "stdout",
     "output_type": "stream",
     "text": [
      "Random Forest - Mean Squared error: 1.5464\n",
      "Random Forest - R-Squared: 0.9817\n"
     ]
    }
   ],
   "source": [
    "print('Random Forest - Mean Squared error:', round(mean_squared_error(Y,y_hat),4))\n",
    "print('Random Forest - R-Squared:', round(r2_score(Y,y_hat),4))"
   ]
  },
  {
   "cell_type": "markdown",
   "metadata": {},
   "source": [
    "### Decision Tree regressor"
   ]
  },
  {
   "cell_type": "code",
   "execution_count": 6,
   "metadata": {},
   "outputs": [],
   "source": [
    "dtModel = decisiontreeregressor(min_samples_split=3, max_depth=3)\n",
    "dtModel.fit(dfX,Y.reshape(-1,1))\n",
    "y_hat = dtModel.predict(dfX.values)"
   ]
  },
  {
   "cell_type": "code",
   "execution_count": 7,
   "metadata": {},
   "outputs": [
    {
     "name": "stdout",
     "output_type": "stream",
     "text": [
      "Decision Tree - Mean Squared error: 9.6458\n",
      "Decision Tree - R-Squared: 0.8857\n"
     ]
    }
   ],
   "source": [
    "print('Decision Tree - Mean Squared error:', round(mean_squared_error(Y,y_hat),4))\n",
    "print('Decision Tree - R-Squared:', round(r2_score(Y,y_hat),4))"
   ]
  },
  {
   "cell_type": "code",
   "execution_count": 8,
   "metadata": {},
   "outputs": [
    {
     "data": {
      "text/html": [
       "<div>\n",
       "<style scoped>\n",
       "    .dataframe tbody tr th:only-of-type {\n",
       "        vertical-align: middle;\n",
       "    }\n",
       "\n",
       "    .dataframe tbody tr th {\n",
       "        vertical-align: top;\n",
       "    }\n",
       "\n",
       "    .dataframe thead th {\n",
       "        text-align: right;\n",
       "    }\n",
       "</style>\n",
       "<table border=\"1\" class=\"dataframe\">\n",
       "  <thead>\n",
       "    <tr style=\"text-align: right;\">\n",
       "      <th></th>\n",
       "      <th>CRIM</th>\n",
       "      <th>ZN</th>\n",
       "      <th>INDUS</th>\n",
       "      <th>CHAS</th>\n",
       "      <th>NOX</th>\n",
       "      <th>RM</th>\n",
       "      <th>AGE</th>\n",
       "      <th>DIS</th>\n",
       "      <th>RAD</th>\n",
       "      <th>TAX</th>\n",
       "      <th>PTRATIO</th>\n",
       "      <th>B</th>\n",
       "      <th>LSTAT</th>\n",
       "    </tr>\n",
       "  </thead>\n",
       "  <tbody>\n",
       "    <tr>\n",
       "      <th>0</th>\n",
       "      <td>0.00632</td>\n",
       "      <td>18.0</td>\n",
       "      <td>2.31</td>\n",
       "      <td>0.0</td>\n",
       "      <td>0.538</td>\n",
       "      <td>6.575</td>\n",
       "      <td>65.2</td>\n",
       "      <td>4.0900</td>\n",
       "      <td>1.0</td>\n",
       "      <td>296.0</td>\n",
       "      <td>15.3</td>\n",
       "      <td>396.90</td>\n",
       "      <td>4.98</td>\n",
       "    </tr>\n",
       "    <tr>\n",
       "      <th>1</th>\n",
       "      <td>0.02731</td>\n",
       "      <td>0.0</td>\n",
       "      <td>7.07</td>\n",
       "      <td>0.0</td>\n",
       "      <td>0.469</td>\n",
       "      <td>6.421</td>\n",
       "      <td>78.9</td>\n",
       "      <td>4.9671</td>\n",
       "      <td>2.0</td>\n",
       "      <td>242.0</td>\n",
       "      <td>17.8</td>\n",
       "      <td>396.90</td>\n",
       "      <td>9.14</td>\n",
       "    </tr>\n",
       "    <tr>\n",
       "      <th>2</th>\n",
       "      <td>0.02729</td>\n",
       "      <td>0.0</td>\n",
       "      <td>7.07</td>\n",
       "      <td>0.0</td>\n",
       "      <td>0.469</td>\n",
       "      <td>7.185</td>\n",
       "      <td>61.1</td>\n",
       "      <td>4.9671</td>\n",
       "      <td>2.0</td>\n",
       "      <td>242.0</td>\n",
       "      <td>17.8</td>\n",
       "      <td>392.83</td>\n",
       "      <td>4.03</td>\n",
       "    </tr>\n",
       "    <tr>\n",
       "      <th>3</th>\n",
       "      <td>0.03237</td>\n",
       "      <td>0.0</td>\n",
       "      <td>2.18</td>\n",
       "      <td>0.0</td>\n",
       "      <td>0.458</td>\n",
       "      <td>6.998</td>\n",
       "      <td>45.8</td>\n",
       "      <td>6.0622</td>\n",
       "      <td>3.0</td>\n",
       "      <td>222.0</td>\n",
       "      <td>18.7</td>\n",
       "      <td>394.63</td>\n",
       "      <td>2.94</td>\n",
       "    </tr>\n",
       "    <tr>\n",
       "      <th>4</th>\n",
       "      <td>0.06905</td>\n",
       "      <td>0.0</td>\n",
       "      <td>2.18</td>\n",
       "      <td>0.0</td>\n",
       "      <td>0.458</td>\n",
       "      <td>7.147</td>\n",
       "      <td>54.2</td>\n",
       "      <td>6.0622</td>\n",
       "      <td>3.0</td>\n",
       "      <td>222.0</td>\n",
       "      <td>18.7</td>\n",
       "      <td>396.90</td>\n",
       "      <td>5.33</td>\n",
       "    </tr>\n",
       "  </tbody>\n",
       "</table>\n",
       "</div>"
      ],
      "text/plain": [
       "      CRIM    ZN  INDUS  CHAS    NOX     RM   AGE     DIS  RAD    TAX  \\\n",
       "0  0.00632  18.0   2.31   0.0  0.538  6.575  65.2  4.0900  1.0  296.0   \n",
       "1  0.02731   0.0   7.07   0.0  0.469  6.421  78.9  4.9671  2.0  242.0   \n",
       "2  0.02729   0.0   7.07   0.0  0.469  7.185  61.1  4.9671  2.0  242.0   \n",
       "3  0.03237   0.0   2.18   0.0  0.458  6.998  45.8  6.0622  3.0  222.0   \n",
       "4  0.06905   0.0   2.18   0.0  0.458  7.147  54.2  6.0622  3.0  222.0   \n",
       "\n",
       "   PTRATIO       B  LSTAT  \n",
       "0     15.3  396.90   4.98  \n",
       "1     17.8  396.90   9.14  \n",
       "2     17.8  392.83   4.03  \n",
       "3     18.7  394.63   2.94  \n",
       "4     18.7  396.90   5.33  "
      ]
     },
     "execution_count": 8,
     "metadata": {},
     "output_type": "execute_result"
    }
   ],
   "source": [
    "dfX.head()"
   ]
  },
  {
   "cell_type": "markdown",
   "metadata": {},
   "source": [
    "### Print decision tree"
   ]
  },
  {
   "cell_type": "code",
   "execution_count": 9,
   "metadata": {},
   "outputs": [
    {
     "name": "stdout",
     "output_type": "stream",
     "text": [
      "|- RM <= 6.939 :Variance Red 38.2205\n",
      " left-->|- LSTAT <= 14.37 :Variance Red 17.0043\n",
      "  left-->|- DIS <= 1.3567 :Variance Red 9.8836\n",
      "    left-->|- CRIM <= 9.2323 :Variance Red 78.1456\n",
      "        left-->50.0\n",
      "        right-->27.9\n",
      "    right-->|- RM <= 6.54 :Variance Red 5.7677\n",
      "        left-->21.6297\n",
      "        right-->27.4273\n",
      "  right-->|- CRIM <= 6.96215 :Variance Red 6.4961\n",
      "    left-->|- NOX <= 0.524 :Variance Red 2.591\n",
      "        left-->20.0208\n",
      "        right-->16.239\n",
      "    right-->|- NOX <= 0.597 :Variance Red 4.1939\n",
      "        left-->16.6333\n",
      "        right-->11.0774\n",
      " right-->|- RM <= 7.42 :Variance Red 40.2758\n",
      "  left-->|- CRIM <= 6.53876 :Variance Red 21.8897\n",
      "    left-->|- DIS <= 1.8773 :Variance Red 7.3814\n",
      "        left-->45.65\n",
      "        right-->32.7488\n",
      "    right-->|- CRIM <= 19.6091 :Variance Red 8.0\n",
      "        left-->16.4\n",
      "        right-->10.4\n",
      "  right-->|- CRIM <= 2.01019 :Variance Red 18.5547\n",
      "    left-->|- PTRATIO <= 14.7 :Variance Red 5.3915\n",
      "        left-->48.3\n",
      "        right-->43.6533\n",
      "    right-->21.9\n"
     ]
    }
   ],
   "source": [
    "dtModel.print_tree()"
   ]
  },
  {
   "cell_type": "markdown",
   "metadata": {},
   "source": [
    "### List of features used in the decision tree"
   ]
  },
  {
   "cell_type": "code",
   "execution_count": 10,
   "metadata": {},
   "outputs": [
    {
     "data": {
      "text/html": [
       "<div>\n",
       "<style scoped>\n",
       "    .dataframe tbody tr th:only-of-type {\n",
       "        vertical-align: middle;\n",
       "    }\n",
       "\n",
       "    .dataframe tbody tr th {\n",
       "        vertical-align: top;\n",
       "    }\n",
       "\n",
       "    .dataframe thead th {\n",
       "        text-align: right;\n",
       "    }\n",
       "</style>\n",
       "<table border=\"1\" class=\"dataframe\">\n",
       "  <thead>\n",
       "    <tr style=\"text-align: right;\">\n",
       "      <th></th>\n",
       "      <th>featurename</th>\n",
       "      <th>treelevel</th>\n",
       "    </tr>\n",
       "  </thead>\n",
       "  <tbody>\n",
       "    <tr>\n",
       "      <th>13</th>\n",
       "      <td>RM</td>\n",
       "      <td>0</td>\n",
       "    </tr>\n",
       "    <tr>\n",
       "      <th>6</th>\n",
       "      <td>LSTAT</td>\n",
       "      <td>1</td>\n",
       "    </tr>\n",
       "    <tr>\n",
       "      <th>12</th>\n",
       "      <td>RM</td>\n",
       "      <td>1</td>\n",
       "    </tr>\n",
       "    <tr>\n",
       "      <th>2</th>\n",
       "      <td>DIS</td>\n",
       "      <td>2</td>\n",
       "    </tr>\n",
       "    <tr>\n",
       "      <th>5</th>\n",
       "      <td>CRIM</td>\n",
       "      <td>2</td>\n",
       "    </tr>\n",
       "    <tr>\n",
       "      <th>0</th>\n",
       "      <td>CRIM</td>\n",
       "      <td>3</td>\n",
       "    </tr>\n",
       "    <tr>\n",
       "      <th>1</th>\n",
       "      <td>RM</td>\n",
       "      <td>3</td>\n",
       "    </tr>\n",
       "    <tr>\n",
       "      <th>3</th>\n",
       "      <td>NOX</td>\n",
       "      <td>3</td>\n",
       "    </tr>\n",
       "    <tr>\n",
       "      <th>7</th>\n",
       "      <td>DIS</td>\n",
       "      <td>3</td>\n",
       "    </tr>\n",
       "    <tr>\n",
       "      <th>10</th>\n",
       "      <td>PTRATIO</td>\n",
       "      <td>3</td>\n",
       "    </tr>\n",
       "  </tbody>\n",
       "</table>\n",
       "</div>"
      ],
      "text/plain": [
       "   featurename  treelevel\n",
       "13          RM          0\n",
       "6        LSTAT          1\n",
       "12          RM          1\n",
       "2          DIS          2\n",
       "5         CRIM          2\n",
       "0         CRIM          3\n",
       "1           RM          3\n",
       "3          NOX          3\n",
       "7          DIS          3\n",
       "10     PTRATIO          3"
      ]
     },
     "execution_count": 10,
     "metadata": {},
     "output_type": "execute_result"
    }
   ],
   "source": [
    "dtFeatures = pd.DataFrame(dtModel.get_features())\n",
    "dtFeatures.columns = ['featurename','treelevel']\n",
    "dtFeatures = dtFeatures.drop_duplicates()\n",
    "dtFeatures.sort_values('treelevel')"
   ]
  },
  {
   "cell_type": "markdown",
   "metadata": {},
   "source": [
    "### Lasso Regression"
   ]
  },
  {
   "cell_type": "code",
   "execution_count": 11,
   "metadata": {},
   "outputs": [
    {
     "name": "stdout",
     "output_type": "stream",
     "text": [
      "Lasso model cofficients : [ 2.25328063e+01 -7.36524582e-01  8.22488980e-01 -1.10785150e-01\n",
      "  6.94754817e-01 -1.73187104e+00  2.79299432e+00 -1.74063096e-04\n",
      " -2.71404959e+00  1.45705764e+00 -9.47138743e-01 -1.96532686e+00\n",
      "  8.04627130e-01 -3.72516480e+00]\n",
      "Lasso Regression - Mean Squared error: 22.1448\n",
      "Lasso Regression - R-Squared: 0.7377\n"
     ]
    }
   ],
   "source": [
    "sc = StandardScaler()\n",
    "dfX_tranformed = pd.DataFrame(sc.fit_transform(dfX))\n",
    "\n",
    "lassoModel = LassoRegression(alpha=0.1)\n",
    "lassoModel.fit(dfX_tranformed.values, Y) \n",
    "print(\"Lasso model cofficients :\",lassoModel.coef_)\n",
    "y_hat = lassoModel.predict(dfX_tranformed.values)\n",
    "\n",
    "print('Lasso Regression - Mean Squared error:', round(mean_squared_error(Y,y_hat),4))\n",
    "print('Lasso Regression - R-Squared:', round(r2_score(Y,y_hat),4))"
   ]
  },
  {
   "cell_type": "markdown",
   "metadata": {},
   "source": [
    "### Feature importance for Lasso regression"
   ]
  },
  {
   "cell_type": "code",
   "execution_count": 12,
   "metadata": {},
   "outputs": [],
   "source": [
    "lassoImportantfeatures = pd.DataFrame(data={'feature': dfX.columns})\n",
    "lassoImportantfeatures[\"importance\"] = pd.DataFrame(lassoModel.coef_[1:])\n",
    "lassoImportantfeatures = lassoImportantfeatures.sort_values(by='importance', ascending=False)"
   ]
  },
  {
   "cell_type": "code",
   "execution_count": 13,
   "metadata": {},
   "outputs": [
    {
     "data": {
      "image/png": "[encoded data removed]",
      "text/plain": [
       "<Figure size 432x288 with 1 Axes>"
      ]
     },
     "metadata": {
      "needs_background": "light"
     },
     "output_type": "display_data"
    }
   ],
   "source": [
    "plt.bar(x=lassoImportantfeatures['feature'], height=lassoImportantfeatures['importance'], color='#087E8B')\n",
    "plt.title('Feature importances - for lasso regresion')\n",
    "plt.xticks(rotation='vertical')\n",
    "plt.show()"
   ]
  },
  {
   "cell_type": "markdown",
   "metadata": {},
   "source": [
    "### Gradient Boosting model"
   ]
  },
  {
   "cell_type": "code",
   "execution_count": null,
   "metadata": {},
   "outputs": [],
   "source": [
    "gradBoostModel = GradientBoostTreeRegressor(n_elements=1000, learning_rate=0.01)\n",
    "    \n",
    "#fit the model\n",
    "gradBoostModel.fit(X,Y)\n",
    "\n",
    "y_hat = gradBoostModel.predict(X)\n",
    "\n",
    "print('Gradient Boost Regression - Mean Squared error:', round(mean_squared_error(Y,y_hat),4))\n",
    "print('Gradient Boost Regression - R-Squared:', round(r2_score(Y,y_hat),4))"
   ]
  },
  {
   "cell_type": "code",
   "execution_count": null,
   "metadata": {},
   "outputs": [],
   "source": []
  }
 ],
 "metadata": {
  "kernelspec": {
   "display_name": "Python 3 (ipykernel)",
   "language": "python",
   "name": "python3"
  },
  "language_info": {
   "codemirror_mode": {
    "name": "ipython",
    "version": 3
   },
   "file_extension": ".py",
   "mimetype": "text/x-python",
   "name": "python",
   "nbconvert_exporter": "python",
   "pygments_lexer": "ipython3",
   "version": "3.10.2"
  }
 },
 "nbformat": 4,
 "nbformat_minor": 4
}
