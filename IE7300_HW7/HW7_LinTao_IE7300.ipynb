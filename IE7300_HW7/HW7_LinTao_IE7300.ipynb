{
 "cells": [
  {
   "cell_type": "code",
   "execution_count": 193,
   "id": "9cc88399",
   "metadata": {},
   "outputs": [
    {
     "name": "stdout",
     "output_type": "stream",
     "text": [
      "IE 7300: Statistical learning for Engineering\n",
      "\n",
      "\n",
      "\n",
      "\n",
      "\n",
      "\n",
      "\n",
      "\n",
      "\n",
      "\n",
      "\n",
      "\n",
      "\n",
      "\n",
      "\n",
      "\n",
      "\n",
      "\n",
      "\n",
      "\n",
      "\n",
      "Homework -7\n",
      "Student name :Lin Tao\n",
      "Student Email :tao.lin1@northeastern.edu\n",
      "\n",
      "\n",
      "\n",
      "\n",
      "\n",
      "\n",
      "\n",
      "\n",
      "\n",
      "\n",
      "\n",
      "\n",
      "\n",
      "\n",
      "\n",
      "\n",
      "\n",
      "\n",
      "\n",
      "\n",
      "\n",
      "\n",
      "\n",
      "Percentage of Effort Contributed by Student : 100%\n",
      "Submission Date: 2022-11-01\n"
     ]
    }
   ],
   "source": [
    "from datetime import date\n",
    "studentName=\"Lin Tao\"\n",
    "studentEmail=\"tao.lin1@northeastern.edu\"\n",
    "homework=7\n",
    "contributedPercentage=100\n",
    "print(\"IE 7300: Statistical learning for Engineering\")\n",
    "print(\"\\n\"*20)\n",
    "print(f'Homework -{homework}')\n",
    "print(f'Student name :{studentName}')\n",
    "print(f'Student Email :{studentEmail}')\n",
    "print(\"\\n\"*22)\n",
    "print(f'Percentage of Effort Contributed by Student : {contributedPercentage}%')\n",
    "print(f'Submission Date: {date.today()}')"
   ]
  },
  {
   "cell_type": "code",
   "execution_count": 146,
   "id": "defa181b",
   "metadata": {},
   "outputs": [],
   "source": [
    "#import \n",
    "import numpy as np\n",
    "import pandas as pd\n",
    "import matplotlib.pyplot as plt\n",
    "import math\n",
    "import warnings\n",
    "warnings.filterwarnings(\"ignore\")\n",
    "\n",
    "from sklearn.preprocessing import StandardScaler\n",
    "\n",
    "#Custom decision tree regressor\n",
    "from statmodels.decisiontrees import decisiontreeregressor\n",
    "#Custom random forest regressor\n",
    "from statmodels.random_forest import RandomForestRegressor\n",
    "#Custom lasso regressor\n",
    "from statmodels.regression import LassoRegression\n",
    "#Custom gradient boosting regressor\n",
    "from statmodels.gradientboosting import GradientBoostTreeRegressor\n",
    "\n",
    "#Find performance\n",
    "from sklearn.metrics import mean_squared_error, r2_score"
   ]
  },
  {
   "cell_type": "markdown",
   "id": "84587068",
   "metadata": {},
   "source": [
    "## Appliances energy prediction Data Set "
   ]
  },
  {
   "cell_type": "markdown",
   "id": "74efb0e3",
   "metadata": {},
   "source": [
    "### data preprocessing"
   ]
  },
  {
   "cell_type": "code",
   "execution_count": null,
   "id": "79fb3d34",
   "metadata": {},
   "outputs": [],
   "source": [
    "#import dataset\n",
    "url='https://docs.google.com/uc?export=download&id=1vNEtBEh53dy6NZKr0JvgPLiRGDvwP4aS'\n",
    "df=pd.read_csv(url)"
   ]
  },
  {
   "cell_type": "code",
   "execution_count": 26,
   "id": "1dc01e9e",
   "metadata": {},
   "outputs": [],
   "source": [
    "#aggregate data by hour\n",
    "df.date=pd.to_datetime(df.date)"
   ]
  },
  {
   "cell_type": "code",
   "execution_count": 27,
   "id": "16797fae",
   "metadata": {},
   "outputs": [],
   "source": [
    "data = df.resample('60T', on=\"date\").mean()"
   ]
  },
  {
   "cell_type": "code",
   "execution_count": 28,
   "id": "a4d105f6",
   "metadata": {},
   "outputs": [],
   "source": [
    "data=data.reset_index()\n",
    "data=data.drop(columns='date')"
   ]
  },
  {
   "cell_type": "code",
   "execution_count": 29,
   "id": "b4752b8e",
   "metadata": {},
   "outputs": [
    {
     "data": {
      "text/html": [
       "<div>\n",
       "<style scoped>\n",
       "    .dataframe tbody tr th:only-of-type {\n",
       "        vertical-align: middle;\n",
       "    }\n",
       "\n",
       "    .dataframe tbody tr th {\n",
       "        vertical-align: top;\n",
       "    }\n",
       "\n",
       "    .dataframe thead th {\n",
       "        text-align: right;\n",
       "    }\n",
       "</style>\n",
       "<table border=\"1\" class=\"dataframe\">\n",
       "  <thead>\n",
       "    <tr style=\"text-align: right;\">\n",
       "      <th></th>\n",
       "      <th>Appliances</th>\n",
       "      <th>lights</th>\n",
       "      <th>T1</th>\n",
       "      <th>RH_1</th>\n",
       "      <th>T2</th>\n",
       "      <th>RH_2</th>\n",
       "      <th>T3</th>\n",
       "      <th>RH_3</th>\n",
       "      <th>T4</th>\n",
       "      <th>RH_4</th>\n",
       "      <th>...</th>\n",
       "      <th>T9</th>\n",
       "      <th>RH_9</th>\n",
       "      <th>T_out</th>\n",
       "      <th>Press_mm_hg</th>\n",
       "      <th>RH_out</th>\n",
       "      <th>Windspeed</th>\n",
       "      <th>Visibility</th>\n",
       "      <th>Tdewpoint</th>\n",
       "      <th>rv1</th>\n",
       "      <th>rv2</th>\n",
       "    </tr>\n",
       "  </thead>\n",
       "  <tbody>\n",
       "    <tr>\n",
       "      <th>0</th>\n",
       "      <td>55.000000</td>\n",
       "      <td>35.000000</td>\n",
       "      <td>19.890000</td>\n",
       "      <td>46.502778</td>\n",
       "      <td>19.200000</td>\n",
       "      <td>44.626528</td>\n",
       "      <td>19.790000</td>\n",
       "      <td>44.897778</td>\n",
       "      <td>18.932778</td>\n",
       "      <td>45.738750</td>\n",
       "      <td>...</td>\n",
       "      <td>17.016667</td>\n",
       "      <td>45.446667</td>\n",
       "      <td>6.308333</td>\n",
       "      <td>733.750000</td>\n",
       "      <td>92.000000</td>\n",
       "      <td>6.166667</td>\n",
       "      <td>53.416667</td>\n",
       "      <td>5.050000</td>\n",
       "      <td>26.823044</td>\n",
       "      <td>26.823044</td>\n",
       "    </tr>\n",
       "    <tr>\n",
       "      <th>1</th>\n",
       "      <td>176.666667</td>\n",
       "      <td>51.666667</td>\n",
       "      <td>19.897778</td>\n",
       "      <td>45.879028</td>\n",
       "      <td>19.268889</td>\n",
       "      <td>44.438889</td>\n",
       "      <td>19.770000</td>\n",
       "      <td>44.863333</td>\n",
       "      <td>18.908333</td>\n",
       "      <td>46.066667</td>\n",
       "      <td>...</td>\n",
       "      <td>16.981667</td>\n",
       "      <td>45.290000</td>\n",
       "      <td>5.941667</td>\n",
       "      <td>734.266667</td>\n",
       "      <td>91.583333</td>\n",
       "      <td>5.416667</td>\n",
       "      <td>40.000000</td>\n",
       "      <td>4.658333</td>\n",
       "      <td>22.324206</td>\n",
       "      <td>22.324206</td>\n",
       "    </tr>\n",
       "    <tr>\n",
       "      <th>2</th>\n",
       "      <td>173.333333</td>\n",
       "      <td>25.000000</td>\n",
       "      <td>20.495556</td>\n",
       "      <td>52.805556</td>\n",
       "      <td>19.925556</td>\n",
       "      <td>46.061667</td>\n",
       "      <td>20.052222</td>\n",
       "      <td>47.227361</td>\n",
       "      <td>18.969444</td>\n",
       "      <td>47.815556</td>\n",
       "      <td>...</td>\n",
       "      <td>16.902222</td>\n",
       "      <td>45.311389</td>\n",
       "      <td>6.000000</td>\n",
       "      <td>734.791667</td>\n",
       "      <td>89.750000</td>\n",
       "      <td>6.000000</td>\n",
       "      <td>40.000000</td>\n",
       "      <td>4.391667</td>\n",
       "      <td>33.734932</td>\n",
       "      <td>33.734932</td>\n",
       "    </tr>\n",
       "    <tr>\n",
       "      <th>3</th>\n",
       "      <td>125.000000</td>\n",
       "      <td>35.000000</td>\n",
       "      <td>20.961111</td>\n",
       "      <td>48.453333</td>\n",
       "      <td>20.251111</td>\n",
       "      <td>45.632639</td>\n",
       "      <td>20.213889</td>\n",
       "      <td>47.268889</td>\n",
       "      <td>19.190833</td>\n",
       "      <td>49.227917</td>\n",
       "      <td>...</td>\n",
       "      <td>16.890000</td>\n",
       "      <td>45.118889</td>\n",
       "      <td>6.000000</td>\n",
       "      <td>735.283333</td>\n",
       "      <td>87.583333</td>\n",
       "      <td>6.000000</td>\n",
       "      <td>40.000000</td>\n",
       "      <td>4.016667</td>\n",
       "      <td>25.679642</td>\n",
       "      <td>25.679642</td>\n",
       "    </tr>\n",
       "    <tr>\n",
       "      <th>4</th>\n",
       "      <td>103.333333</td>\n",
       "      <td>23.333333</td>\n",
       "      <td>21.311667</td>\n",
       "      <td>45.768333</td>\n",
       "      <td>20.587778</td>\n",
       "      <td>44.961111</td>\n",
       "      <td>20.373333</td>\n",
       "      <td>46.164444</td>\n",
       "      <td>19.425556</td>\n",
       "      <td>47.918889</td>\n",
       "      <td>...</td>\n",
       "      <td>16.890000</td>\n",
       "      <td>44.807778</td>\n",
       "      <td>5.833333</td>\n",
       "      <td>735.566667</td>\n",
       "      <td>87.416667</td>\n",
       "      <td>6.000000</td>\n",
       "      <td>40.000000</td>\n",
       "      <td>3.816667</td>\n",
       "      <td>18.826274</td>\n",
       "      <td>18.826274</td>\n",
       "    </tr>\n",
       "  </tbody>\n",
       "</table>\n",
       "<p>5 rows × 28 columns</p>\n",
       "</div>"
      ],
      "text/plain": [
       "   Appliances     lights         T1       RH_1         T2       RH_2  \\\n",
       "0   55.000000  35.000000  19.890000  46.502778  19.200000  44.626528   \n",
       "1  176.666667  51.666667  19.897778  45.879028  19.268889  44.438889   \n",
       "2  173.333333  25.000000  20.495556  52.805556  19.925556  46.061667   \n",
       "3  125.000000  35.000000  20.961111  48.453333  20.251111  45.632639   \n",
       "4  103.333333  23.333333  21.311667  45.768333  20.587778  44.961111   \n",
       "\n",
       "          T3       RH_3         T4       RH_4  ...         T9       RH_9  \\\n",
       "0  19.790000  44.897778  18.932778  45.738750  ...  17.016667  45.446667   \n",
       "1  19.770000  44.863333  18.908333  46.066667  ...  16.981667  45.290000   \n",
       "2  20.052222  47.227361  18.969444  47.815556  ...  16.902222  45.311389   \n",
       "3  20.213889  47.268889  19.190833  49.227917  ...  16.890000  45.118889   \n",
       "4  20.373333  46.164444  19.425556  47.918889  ...  16.890000  44.807778   \n",
       "\n",
       "      T_out  Press_mm_hg     RH_out  Windspeed  Visibility  Tdewpoint  \\\n",
       "0  6.308333   733.750000  92.000000   6.166667   53.416667   5.050000   \n",
       "1  5.941667   734.266667  91.583333   5.416667   40.000000   4.658333   \n",
       "2  6.000000   734.791667  89.750000   6.000000   40.000000   4.391667   \n",
       "3  6.000000   735.283333  87.583333   6.000000   40.000000   4.016667   \n",
       "4  5.833333   735.566667  87.416667   6.000000   40.000000   3.816667   \n",
       "\n",
       "         rv1        rv2  \n",
       "0  26.823044  26.823044  \n",
       "1  22.324206  22.324206  \n",
       "2  33.734932  33.734932  \n",
       "3  25.679642  25.679642  \n",
       "4  18.826274  18.826274  \n",
       "\n",
       "[5 rows x 28 columns]"
      ]
     },
     "execution_count": 29,
     "metadata": {},
     "output_type": "execute_result"
    }
   ],
   "source": [
    "data.head()"
   ]
  },
  {
   "cell_type": "code",
   "execution_count": 34,
   "id": "810c812e",
   "metadata": {},
   "outputs": [],
   "source": [
    "X=data.iloc[:,1:]#.values\n",
    "Y=data.iloc[:,0]#.values.reshape(-1,1)\n",
    "from sklearn.model_selection import train_test_split\n",
    "x_train, x_test, y_train, y_test = train_test_split(X, Y, test_size =0.2, random_state=1)"
   ]
  },
  {
   "cell_type": "markdown",
   "id": "848c67dd",
   "metadata": {},
   "source": [
    "**a) Create a Lasso regression, decision tree, Random forest, and GradientBoost models. Fit the model using the training dataset and find the model RMSE and R-Square. Explain each model's outcome, finding, and accuracy**"
   ]
  },
  {
   "cell_type": "markdown",
   "id": "95248dc6",
   "metadata": {},
   "source": [
    "### Lasso Regression"
   ]
  },
  {
   "cell_type": "code",
   "execution_count": 156,
   "id": "e9bdf1e8",
   "metadata": {},
   "outputs": [
    {
     "name": "stdout",
     "output_type": "stream",
     "text": [
      "Lasso model coefficients : [ 97.26633722  16.61472384  -5.07097507  42.00917283  -3.20790646\n",
      " -21.64377825  47.98005113  13.01329158 -14.52628483  -6.54659437\n",
      " -11.21774181   0.10906816  15.54434064   4.33410399   0.54355595\n",
      "  -9.89334128   7.67929449 -19.30296345 -17.8552406   -7.60917487\n",
      "  -5.9551157   -0.2050806   -2.35112033   4.06098874   0.87871069\n",
      "  -5.76964803  -0.37651986  -0.17426172]\n",
      "Lasso Regression - Root Mean Squared error: 66.9269\n",
      "Lasso Regression - R-Squared: 0.2911\n"
     ]
    }
   ],
   "source": [
    "sc = StandardScaler()\n",
    "x_train_tranformed = pd.DataFrame(sc.fit_transform(x_train))\n",
    "\n",
    "lassoModel = LassoRegression(alpha=0.1)\n",
    "lassoModel.fit(x_train_tranformed.values, y_train) \n",
    "print(\"Lasso model coefficients :\",lassoModel.coef_)\n",
    "y_hat = lassoModel.predict(x_train_tranformed.values)\n",
    "\n",
    "print('Lasso Regression - Root Mean Squared error:', round(math.sqrt(mean_squared_error(y_train,y_hat)),4))\n",
    "print('Lasso Regression - R-Squared:', round(r2_score(y_train,y_hat),4))"
   ]
  },
  {
   "cell_type": "markdown",
   "id": "1ea2ea68",
   "metadata": {},
   "source": [
    "**Explanation**\n",
    "\n",
    "For this lasso regression, set the alpha value as 0.1 and fit the model on training dataset. We could get the coffieicients above, the intercept is 97.26, the coefficients of lights is 16.62 and other columns coefficients are matching with the coefficients array in order. \n",
    "\n",
    "The MSE(Mean Squared Error) is obtained by calculating the average of the square of y_true(training dataset's y) and the y pred(calculated by this model), which is a values that to evaluate the deviation of predicted and true values. The smaller the MSE is, the better our model is. The RMSE(root mean squared error) is the square root of MSE. The RMSE of Lasso Regression is about 67. \n",
    "\n",
    "The R-squared of this lasso regression is 0.291, which means there is about 29.1% of this training data could be explained by this model. From the R-squared result, this lasso regression is not performed well. "
   ]
  },
  {
   "cell_type": "markdown",
   "id": "0b41c7a1",
   "metadata": {},
   "source": [
    "### Decision Tree"
   ]
  },
  {
   "cell_type": "code",
   "execution_count": 78,
   "id": "cfeeb8f4",
   "metadata": {},
   "outputs": [
    {
     "name": "stdout",
     "output_type": "stream",
     "text": [
      "Decision Tree - Mean Squared error: 3762.9554\n",
      "Decision Tree - R-Squared: 0.4044\n"
     ]
    }
   ],
   "source": [
    "#max_depth=5\n",
    "dtModel_5 = decisiontreeregressor(min_samples_split=3, max_depth=5)\n",
    "dtModel_5.fit(x_train,y_train.values.reshape(-1,1))\n",
    "y_hat = dtModel_5.predict(x_train.values)\n",
    "print('Decision Tree - Mean Squared error:', round(mean_squared_error(y_train,y_hat),4))\n",
    "print('Decision Tree - R-Squared:', round(r2_score(y_train,y_hat),4))"
   ]
  },
  {
   "cell_type": "code",
   "execution_count": 155,
   "id": "e88d9d64",
   "metadata": {},
   "outputs": [
    {
     "name": "stdout",
     "output_type": "stream",
     "text": [
      "Decision Tree - Root Mean Squared error: 61.3429\n"
     ]
    }
   ],
   "source": [
    "RMSE=math.sqrt(3762.9554)\n",
    "print('Decision Tree - Root Mean Squared error:', round(RMSE,4))"
   ]
  },
  {
   "cell_type": "code",
   "execution_count": 75,
   "id": "e5931365",
   "metadata": {},
   "outputs": [],
   "source": [
    "#max_depth=10\n",
    "dtModel = decisiontreeregressor(min_samples_split=3, max_depth=10)\n",
    "dtModel.fit(x_train,y_train.values.reshape(-1,1))\n",
    "y_hat = dtModel.predict(x_train.values)"
   ]
  },
  {
   "cell_type": "code",
   "execution_count": 76,
   "id": "ef3dd81e",
   "metadata": {},
   "outputs": [
    {
     "name": "stdout",
     "output_type": "stream",
     "text": [
      "Decision Tree - Mean Squared error: 882.2652\n",
      "Decision Tree - R-Squared: 0.8604\n"
     ]
    }
   ],
   "source": [
    "print('Decision Tree - Mean Squared error:', round(mean_squared_error(y_train,y_hat),4))\n",
    "print('Decision Tree - R-Squared:', round(r2_score(y_train,y_hat),4))"
   ]
  },
  {
   "cell_type": "code",
   "execution_count": 154,
   "id": "53d24b39",
   "metadata": {},
   "outputs": [
    {
     "name": "stdout",
     "output_type": "stream",
     "text": [
      "Decision Tree - Root Mean Squared error: 29.7029\n"
     ]
    }
   ],
   "source": [
    "RMSE=math.sqrt(882.2652)\n",
    "print('Decision Tree - Root Mean Squared error:', round(RMSE,4))"
   ]
  },
  {
   "cell_type": "markdown",
   "id": "9b7beca5",
   "metadata": {},
   "source": [
    "**Explanation**\n",
    "\n",
    "Fitting a decision tree with max depth of 5 first, then increase the max depth to improve the training dataset performance. \n",
    "\n",
    "For the first tree with max depth of 5 and min samples split of 3, it has a RMSE of 61, which is a little bit lower than lasso. And this model's R-squared is 0.4044, which means there is 40.44% data of training data set could be explained by this 5 depth decision tree model. \n",
    "And for the 10 depth one, it has a smaller RMSE, which is about 29 and a higher R-sqaured, which is 0.8604. Almost 86% data in training dataset could be explained by this 10 depth tree model.\n"
   ]
  },
  {
   "cell_type": "markdown",
   "id": "9b49a9fe",
   "metadata": {},
   "source": [
    "### Random Forest"
   ]
  },
  {
   "cell_type": "code",
   "execution_count": null,
   "id": "b3326bec",
   "metadata": {
    "scrolled": true
   },
   "outputs": [],
   "source": [
    "rfr = RandomForestRegressor()\n",
    "rfr.fit(x_train.values,y_train.values)"
   ]
  },
  {
   "cell_type": "code",
   "execution_count": 68,
   "id": "e2890006",
   "metadata": {},
   "outputs": [
    {
     "name": "stdout",
     "output_type": "stream",
     "text": [
      "Random Forest - Mean Squared error: 550.0521\n",
      "Random Forest - R-Squared: 0.9129\n"
     ]
    }
   ],
   "source": [
    "y_hat = rfr.predict(x_train.values)\n",
    "print('Random Forest - Mean Squared error:', round(mean_squared_error(y_train,y_hat),4))\n",
    "print('Random Forest - R-Squared:', round(r2_score(y_train,y_hat),4))"
   ]
  },
  {
   "cell_type": "code",
   "execution_count": 153,
   "id": "71eec6b1",
   "metadata": {},
   "outputs": [
    {
     "name": "stdout",
     "output_type": "stream",
     "text": [
      "Random Forest - Root Mean Squared error: 23.4532\n"
     ]
    }
   ],
   "source": [
    "RMSE=math.sqrt(550.0521)\n",
    "print('Random Forest - Root Mean Squared error:', round(RMSE,4))"
   ]
  },
  {
   "cell_type": "markdown",
   "id": "3eb3de74",
   "metadata": {},
   "source": [
    "**Explanation**\n",
    "\n",
    "The Random Forest model with baseline model of decision tree, has the lowest training RMSE in these four model, about 23, and highest R-squared values. About 91.3% data in training dataset could be explained by this random forest model. It might occur some overfitting problem from this result."
   ]
  },
  {
   "cell_type": "markdown",
   "id": "5c2a3006",
   "metadata": {},
   "source": [
    "### Gradient Boosting"
   ]
  },
  {
   "cell_type": "code",
   "execution_count": 70,
   "id": "2c4eee64",
   "metadata": {},
   "outputs": [],
   "source": [
    "#initial Gradient Boosting Model\n",
    "gradBoostModel = GradientBoostTreeRegressor(n_elements=1000, learning_rate=0.01)\n",
    "    \n",
    "#fit the model\n",
    "gradBoostModel.fit(x_train.values,y_train.values)\n"
   ]
  },
  {
   "cell_type": "code",
   "execution_count": 72,
   "id": "b6b11ea2",
   "metadata": {},
   "outputs": [
    {
     "name": "stdout",
     "output_type": "stream",
     "text": [
      "Gradient Boost Regression - Mean Squared error: 1971.931\n",
      "Gradient Boost Regression - R-Squared: 0.6879\n"
     ]
    }
   ],
   "source": [
    "y_hat = gradBoostModel.predict(x_train.values)\n",
    "\n",
    "print('Gradient Boost Regression - Mean Squared error:', round(mean_squared_error(y_train,y_hat),4))\n",
    "print('Gradient Boost Regression - R-Squared:', round(r2_score(y_train,y_hat),4))"
   ]
  },
  {
   "cell_type": "code",
   "execution_count": 152,
   "id": "05441557",
   "metadata": {},
   "outputs": [
    {
     "name": "stdout",
     "output_type": "stream",
     "text": [
      "Gradient Boost Regression - Root Mean Squared error: 44.4064\n"
     ]
    }
   ],
   "source": [
    "RMSE=math.sqrt(1971.931)\n",
    "print('Gradient Boost Regression - Root Mean Squared error:', round(RMSE,4))"
   ]
  },
  {
   "cell_type": "code",
   "execution_count": 144,
   "id": "29590e8e",
   "metadata": {},
   "outputs": [],
   "source": [
    "#adjust hyperparameters and fit a new feature\n",
    "#gradBoostModel_ = GradientBoostTreeRegressor(n_elements=4000, learning_rate=0.1)\n",
    "    \n",
    "#fit the model\n",
    "#gradBoostModel.fit(x_train.values,y_train.values)"
   ]
  },
  {
   "cell_type": "code",
   "execution_count": 147,
   "id": "6f3de53f",
   "metadata": {
    "collapsed": true
   },
   "outputs": [
    {
     "name": "stdout",
     "output_type": "stream",
     "text": [
      "Gradient Boost Regression - Mean Squared error: 0.0366\n",
      "Gradient Boost Regression - R-Squared: 1.0\n"
     ]
    }
   ],
   "source": [
    "#y_hat = gradBoostModel_.predict(x_train.values)\n",
    "\n",
    "#print('Gradient Boost Regression - Mean Squared error:', round(mean_squared_error(y_train,y_hat),4))\n",
    "#print('Gradient Boost Regression - R-Squared:', round(r2_score(y_train,y_hat),4))"
   ]
  },
  {
   "cell_type": "code",
   "execution_count": 151,
   "id": "f8df70dc",
   "metadata": {
    "collapsed": true
   },
   "outputs": [
    {
     "name": "stdout",
     "output_type": "stream",
     "text": [
      "Gradient Boost Regression - Root Mean Squared error: 0.1913\n"
     ]
    }
   ],
   "source": [
    "#RMSE=math.sqrt(0.0366)\n",
    "#print('Gradient Boost Regression - Root Mean Squared error:', round(RMSE,4))"
   ]
  },
  {
   "cell_type": "code",
   "execution_count": 169,
   "id": "060c5890",
   "metadata": {},
   "outputs": [],
   "source": [
    "#adjust hyperparameters and fit a new feature\n",
    "gradBoostModel1 = GradientBoostTreeRegressor(n_elements=1000, learning_rate=0.1)\n",
    "    \n",
    "#fit the model\n",
    "gradBoostModel1.fit(x_train.values,y_train.values)"
   ]
  },
  {
   "cell_type": "code",
   "execution_count": 170,
   "id": "93d39a28",
   "metadata": {},
   "outputs": [
    {
     "name": "stdout",
     "output_type": "stream",
     "text": [
      "Gradient Boost Regression - Mean Squared error: 7.9517\n",
      "Gradient Boost Regression - R-Squared: 0.99\n"
     ]
    }
   ],
   "source": [
    "y_hat = gradBoostModel1.predict(x_train.values)\n",
    "\n",
    "print('Gradient Boost Regression - Mean Squared error:', round(math.sqrt(mean_squared_error(y_train,y_hat)),4))\n",
    "print('Gradient Boost Regression - R-Squared:', round(r2_score(y_train,y_hat),4))"
   ]
  },
  {
   "cell_type": "markdown",
   "id": "4584aa71",
   "metadata": {},
   "source": [
    "**Explanation**\n",
    "\n",
    "For the Gradient Boosting, we also fit more than one models with different parameters. First go by the initial one, then adjust the elements numbers and the learning rate. The initial one has a RMSE of 44 and R-squared of 0.68 and the second one, which has a larger learning rate has a RMSE of 7.9517 and R-squared of 0.99. \n",
    "For the first one, 68% data of the training dataset could be explained by the model. And for the second one, 99% of data of the training dataset could be explained by the model."
   ]
  },
  {
   "cell_type": "markdown",
   "id": "ee6d5787",
   "metadata": {},
   "source": [
    "**b) Predict the models using the test dataset, and provide the performance metrics. Compare the four models' performance metrics, and explain at least four findings on each of the models. Do not repeat the code to fit the model.**"
   ]
  },
  {
   "cell_type": "markdown",
   "id": "27f3493b",
   "metadata": {},
   "source": [
    "### Lasso Regression"
   ]
  },
  {
   "cell_type": "code",
   "execution_count": 73,
   "id": "953d19cb",
   "metadata": {},
   "outputs": [
    {
     "name": "stdout",
     "output_type": "stream",
     "text": [
      "Lasso Regression - Mean Squared error: 5975.0515\n",
      "Lasso Regression - R-Squared: 0.223\n"
     ]
    }
   ],
   "source": [
    "sc = StandardScaler()\n",
    "x_test_tranformed = pd.DataFrame(sc.fit_transform(x_test))\n",
    "y_pred = lassoModel.predict(x_test_tranformed.values)\n",
    "\n",
    "print('Lasso Regression - Mean Squared error:', round(mean_squared_error(y_test,y_pred),4))\n",
    "print('Lasso Regression - R-Squared:', round(r2_score(y_test,y_pred),4))"
   ]
  },
  {
   "cell_type": "code",
   "execution_count": 161,
   "id": "97620b2b",
   "metadata": {},
   "outputs": [
    {
     "name": "stdout",
     "output_type": "stream",
     "text": [
      "Lasso Regression - Root Mean Squared error: 77.2985\n"
     ]
    }
   ],
   "source": [
    "RMSE=math.sqrt(5975.0515)\n",
    "print('Lasso Regression - Root Mean Squared error:', round(RMSE,4))"
   ]
  },
  {
   "cell_type": "markdown",
   "id": "661169a7",
   "metadata": {},
   "source": [
    "### Decision Tree"
   ]
  },
  {
   "cell_type": "code",
   "execution_count": 77,
   "id": "5bd8ec43",
   "metadata": {},
   "outputs": [
    {
     "name": "stdout",
     "output_type": "stream",
     "text": [
      "Decision Tree - Mean Squared error: 8971.4314\n",
      "Decision Tree - R-Squared: -0.1666\n"
     ]
    }
   ],
   "source": [
    "#max_depth=10\n",
    "y_pred = dtModel.predict(x_test.values)\n",
    "print('Decision Tree - Mean Squared error:', round(mean_squared_error(y_test,y_pred),4))\n",
    "print('Decision Tree - R-Squared:', round(r2_score(y_test,y_pred),4))"
   ]
  },
  {
   "cell_type": "code",
   "execution_count": 162,
   "id": "67d0db0e",
   "metadata": {},
   "outputs": [
    {
     "name": "stdout",
     "output_type": "stream",
     "text": [
      "Decision Tree - Root Mean Squared error: 94.7176\n"
     ]
    }
   ],
   "source": [
    "RMSE=math.sqrt(8971.4314)\n",
    "print('Decision Tree - Root Mean Squared error:', round(RMSE,4))"
   ]
  },
  {
   "cell_type": "code",
   "execution_count": 79,
   "id": "264a5df9",
   "metadata": {},
   "outputs": [
    {
     "name": "stdout",
     "output_type": "stream",
     "text": [
      "Decision Tree - Mean Squared error: 6346.2386\n",
      "Decision Tree - R-Squared: 0.1747\n"
     ]
    }
   ],
   "source": [
    "#max_depth=5\n",
    "y_pred = dtModel_5.predict(x_test.values)\n",
    "print('Decision Tree - Mean Squared error:', round(mean_squared_error(y_test,y_pred),4))\n",
    "print('Decision Tree - R-Squared:', round(r2_score(y_test,y_pred),4))"
   ]
  },
  {
   "cell_type": "code",
   "execution_count": 163,
   "id": "86e52b5d",
   "metadata": {},
   "outputs": [
    {
     "name": "stdout",
     "output_type": "stream",
     "text": [
      "Decision Tree - Root Mean Squared error: 79.6633\n"
     ]
    }
   ],
   "source": [
    "RMSE=math.sqrt(6346.2386)\n",
    "print('Decision Tree - Root Mean Squared error:', round(RMSE,4))"
   ]
  },
  {
   "cell_type": "markdown",
   "id": "326458ef",
   "metadata": {},
   "source": [
    "### Random Forest"
   ]
  },
  {
   "cell_type": "code",
   "execution_count": 81,
   "id": "b68ac707",
   "metadata": {},
   "outputs": [
    {
     "name": "stdout",
     "output_type": "stream",
     "text": [
      "Random Forest - Mean Squared error: 5043.7616\n",
      "Random Forest - R-Squared: 0.3441\n"
     ]
    }
   ],
   "source": [
    "y_pred = rfr.predict(x_test.values)\n",
    "print('Random Forest - Mean Squared error:', round(mean_squared_error(y_test,y_pred),4))\n",
    "print('Random Forest - R-Squared:', round(r2_score(y_test,y_pred),4))"
   ]
  },
  {
   "cell_type": "code",
   "execution_count": 164,
   "id": "22cd0b7b",
   "metadata": {},
   "outputs": [
    {
     "name": "stdout",
     "output_type": "stream",
     "text": [
      "Decision Tree - Root Mean Squared error: 71.0194\n"
     ]
    }
   ],
   "source": [
    "RMSE=math.sqrt(5043.7616)\n",
    "print('Decision Tree - Root Mean Squared error:', round(RMSE,4))"
   ]
  },
  {
   "cell_type": "markdown",
   "id": "9f54711b",
   "metadata": {},
   "source": [
    "### Gradient Boosting "
   ]
  },
  {
   "cell_type": "code",
   "execution_count": 82,
   "id": "e4b1d696",
   "metadata": {},
   "outputs": [
    {
     "name": "stdout",
     "output_type": "stream",
     "text": [
      "Gradient Boost Regression - Mean Squared error: 5227.0695\n",
      "Gradient Boost Regression - R-Squared: 0.3203\n"
     ]
    }
   ],
   "source": [
    "#initial model\n",
    "y_pred = gradBoostModel.predict(x_test.values)\n",
    "\n",
    "print('Gradient Boost Regression - Mean Squared error:', round(mean_squared_error(y_test,y_pred),4))\n",
    "print('Gradient Boost Regression - R-Squared:', round(r2_score(y_test,y_pred),4))"
   ]
  },
  {
   "cell_type": "code",
   "execution_count": 165,
   "id": "6b996a0d",
   "metadata": {},
   "outputs": [
    {
     "name": "stdout",
     "output_type": "stream",
     "text": [
      "Gradient Boost Regression - Root Mean Squared error: 72.2985\n"
     ]
    }
   ],
   "source": [
    "RMSE=math.sqrt(5227.0695)\n",
    "print('Gradient Boost Regression - Root Mean Squared error:', round(RMSE,4))"
   ]
  },
  {
   "cell_type": "code",
   "execution_count": 171,
   "id": "720f2fe1",
   "metadata": {},
   "outputs": [
    {
     "name": "stdout",
     "output_type": "stream",
     "text": [
      "Gradient Boost Regression - Mean Squared error: 4746.8574\n",
      "Gradient Boost Regression - R-Squared: 0.3827\n"
     ]
    }
   ],
   "source": [
    "#adjusted hyperparameters\n",
    "y_pred = gradBoostModel1.predict(x_test.values)\n",
    "\n",
    "print('Gradient Boost Regression - Mean Squared error:', round(mean_squared_error(y_test,y_pred),4))\n",
    "print('Gradient Boost Regression - R-Squared:', round(r2_score(y_test,y_pred),4))"
   ]
  },
  {
   "cell_type": "code",
   "execution_count": 172,
   "id": "c71a28a8",
   "metadata": {},
   "outputs": [
    {
     "name": "stdout",
     "output_type": "stream",
     "text": [
      "Gradient Boost Regression - Root Mean Squared error: 67.828\n"
     ]
    }
   ],
   "source": [
    "RMSE=math.sqrt(4600.6431)\n",
    "print('Gradient Boost Regression - Root Mean Squared error:', round(RMSE,4))"
   ]
  },
  {
   "cell_type": "markdown",
   "id": "0010e9cc",
   "metadata": {},
   "source": [
    "**Comparison**\n",
    "\n",
    "For these four models, Ramdom forest and Gradient Boosting performed well on testing dataset, which both has a RMSE around 70 and a R-squared above 30%. But, all these model are not perform as well as they perform in training dataset. And almost all these four model has poor performance on this dataset.\n",
    "\n",
    "**Lasso**\n",
    "\n",
    "RMSE: training 67 testing 77; R-squared: training 0.29 testing 0.22\n",
    "1. The model is not perform well in both dataset. Both has a high RMSE and low R-squared, which is lower than 0.3.\n",
    "2. The preformance metrics(RMSE and R-squared) are not much difference between testing and training dataset. The result is closed, however this lasso regression is perform a little bit better on training dataset\n",
    "3. The testing RMSE is about 77 and the R-sqaured is 0.223, which means only 22.3% of data in testing dataset could be explained by this lasso regression model. \n",
    "4. This model has a very poor explanation of this dataset, based on the performance of training and testing dataset it might has underfitting issue. The lasso regression seems too simple to explain this dataset, we need to use model that more complex to avoid underfitting issue.\n",
    "\n",
    "**Decision Tree**\n",
    "\n",
    "depth 5\n",
    "RMSE: training 61 testing 79; R-squared: training 0.4 testing 0.17\n",
    "depth 10\n",
    "RMSE: training 29 testing 94; R-squared: training 0.86 testing -0.16\n",
    "1. From the Training result, 10 depth tree seems much better than 5 depth one. However, comparing the trainng and testing result, 5 depth one is much more stable than 10 depth one.\n",
    "2. For 10 depth decision tree, it performs very well in training dataset, with a low RMSE about 29, and a high R-squared value about 0.86. However, the result on testing dataset shows a very bad performance. The R-squared of the testing dataset is negative, which means that this model could not explain this testing data anymore. \n",
    "3. For 5 depth decison tree, the training and testing data has closed RMSE, but both dataset's R squared are very low.\n",
    "4. The model might has overfitting issues, due to a very great performance in training while a really worse performance in testing. Max depth of 5 is a better one, comparing to depth 10 one.\n",
    "\n",
    "\n",
    "**Random Forest**\n",
    "\n",
    "RMSE: training 23 testing 71; R-squared: training 0.91 testing 0.34\n",
    "1. The model performs very well on training dataset. About 91% of the data in training dataset could be explained by this random forest model. However, the model performance in testing is not that well.\n",
    "2. There is a huge difference between training and testing performance metrics.\n",
    "3. The testing RMSE is about 71 and the R-sqaured is 0.34, which means only 34% of data in testing dataset could be explained by this random forest model.\n",
    "4. This model has overfitting issues, due to a very great performance in training while a really worse performance in testing.\n",
    "\n",
    "**Gradient Boosting**\n",
    "\n",
    "for only the initial one：\n",
    "RMSE: training 44 testing 72; R-squared: training 0.69 testing 0.32\n",
    "Adjusted one: RMSE: trainig 7.9 testing 67; R-sqaured: training 0.99 testing 0.38\n",
    "1. The model performs much better on training dataset than testing dataset. About 69% of the data in training dataset could be explained by this model. However, the model performance in testing is not that well.\n",
    "2. The testing RMSE is about 72 and the R-sqaured is 0.32, which means only 32% of data in testing dataset could be explained by this random forest model.\n",
    "4. We could add more numbers of elements, adjust the learning rate to improve this model performance. After we adjust this hyperparameters, as the second one do, the training dataset performance improve, also the testing performance improve. But the difference of two set is still very huge.\n",
    "3. This model has overfitting issues, both initial one and adjusted one, due to the training error is higher than testing error. The adjusted model has a R-squared of 0.99 in training but 0.38 in testing."
   ]
  },
  {
   "cell_type": "markdown",
   "id": "ae45b2ae",
   "metadata": {},
   "source": [
    "**c) Do you see any bias and variance issues? How do you interpret each model output?**"
   ]
  },
  {
   "cell_type": "markdown",
   "id": "5da9d415",
   "metadata": {},
   "source": [
    "**Lasso**\n",
    "Lasso regression might has a high bias issue. Since it has high error value(RMSE) both in training and testing dataset, also the testing error(RMSE) is closed to training error(RMSE). It means that the model has underfiting issue and has could explain limited information of this dataset. \n",
    "\n",
    "**Decision Tree**\n",
    "Decision Tree model might has a high variance issue. Especially the 10 depth one. It has a very high R-squared(0.86) and low RMSE on training dataset but, has a extremely low R-sqaured(negative) and high RMSE on testing dataset.\n",
    "This 10 depth decision tree model might have overfitting issues that the model contains too much information of the training dataset.\n",
    "\n",
    "**Random Forest**\n",
    "Random Forest has a high variance issue. Since it has a very low error in training dataset and extremely high error in testing dataset. The random forest has overfitting issues at this time. We might need to adjust the max depth of the tree, the min samples of each split to avoid this issues.\n",
    "\n",
    "**Gradient Boosting**\n",
    "Gradient Boosting has a high variance issue. Especially in adjusted one, has a very low RMSE in training and a high RMSE in testing. This model also has overfitting issues at this time."
   ]
  },
  {
   "cell_type": "markdown",
   "id": "ad99e43d",
   "metadata": {},
   "source": [
    " **d) Write a function to find important features in each model? Why is it an important feature of the model? Explain with some statistical evidence.**"
   ]
  },
  {
   "cell_type": "markdown",
   "id": "d8739a9c",
   "metadata": {},
   "source": [
    "### Feature importance function"
   ]
  },
  {
   "cell_type": "code",
   "execution_count": 132,
   "id": "2d84f9f1",
   "metadata": {},
   "outputs": [],
   "source": [
    "\n",
    "def get_score_after_permutation(model, X, y, curr_feat):\n",
    "    \"\"\" return the score of model when curr_feat is permuted \"\"\"\n",
    "\n",
    "    X_permuted = X.copy()\n",
    "    col_idx = list(X.columns).index(curr_feat)\n",
    "    # permute one column\n",
    "    X_permuted.iloc[:, col_idx] = np.random.permutation(\n",
    "        X_permuted[curr_feat].values)\n",
    "    y_pred = model.predict(X_permuted.values)\n",
    "\n",
    "    permuted_score = r2_score(y, y_pred)\n",
    "    return permuted_score\n",
    "\n",
    "\n",
    "def get_feature_importance(model, X, y, curr_feat):\n",
    "    \"\"\" compare the score when curr_feat is permuted \"\"\"\n",
    "    y_pred = model.predict(X.values)\n",
    "\n",
    "    baseline_score_train = r2_score(y, y_pred)\n",
    "    permuted_score_train = get_score_after_permutation(model, X, y, curr_feat)\n",
    "\n",
    "    # feature importance is the difference between the two scores\n",
    "    feature_importance = baseline_score_train - permuted_score_train\n",
    "    return feature_importance\n"
   ]
  },
  {
   "cell_type": "code",
   "execution_count": 134,
   "id": "c22be30b",
   "metadata": {},
   "outputs": [],
   "source": [
    "def permutation_importance(model, X, y, n_repeats=10):\n",
    "    \"\"\"Calculate importance score for each feature.\"\"\"\n",
    "\n",
    "    importances = []\n",
    "    for curr_feat in X.columns:\n",
    "        list_feature_importance = []\n",
    "        for n_round in range(n_repeats):\n",
    "            list_feature_importance.append(\n",
    "                get_feature_importance(model, X, y, curr_feat))\n",
    "\n",
    "        importances.append(list_feature_importance)\n",
    "\n",
    "    return {'importances_mean': np.mean(importances, axis=1),\n",
    "            'importances_std': np.std(importances, axis=1),\n",
    "            'importances': importances}"
   ]
  },
  {
   "cell_type": "code",
   "execution_count": 186,
   "id": "b622fc53",
   "metadata": {},
   "outputs": [],
   "source": [
    "def plot_feature_importances(perm_importance_result, feat_name):\n",
    "    \"\"\" bar plot the feature importance \"\"\"\n",
    "    fig, ax = plt.subplots()\n",
    "    fig.set_size_inches(18.5, 10.5)\n",
    "\n",
    "    indices = perm_importance_result['importances_mean'].argsort()\n",
    "    plt.barh(range(len(indices)),\n",
    "             perm_importance_result['importances_mean'][indices],\n",
    "             xerr=perm_importance_result['importances_std'][indices])\n",
    "\n",
    "    ax.set_yticks(range(len(indices)))\n",
    "    _ = ax.set_yticklabels(feat_name[indices])\n"
   ]
  },
  {
   "cell_type": "markdown",
   "id": "cd276479",
   "metadata": {},
   "source": [
    "### Lasso Regression Feature Importance"
   ]
  },
  {
   "cell_type": "code",
   "execution_count": 83,
   "id": "5a790c8f",
   "metadata": {},
   "outputs": [],
   "source": [
    "lassoImportantfeatures = pd.DataFrame(data={'feature': x_train.columns})\n",
    "lassoImportantfeatures[\"importance\"] = pd.DataFrame(lassoModel.coef_[1:])\n",
    "lassoImportantfeatures = lassoImportantfeatures.sort_values(by='importance', ascending=False)"
   ]
  },
  {
   "cell_type": "code",
   "execution_count": 84,
   "id": "37653790",
   "metadata": {},
   "outputs": [
    {
     "data": {
      "image/png": "[encoded data removed]",
      "text/plain": [
       "<Figure size 432x288 with 1 Axes>"
      ]
     },
     "metadata": {
      "needs_background": "light"
     },
     "output_type": "display_data"
    }
   ],
   "source": [
    "plt.bar(x=lassoImportantfeatures['feature'], height=lassoImportantfeatures['importance'], color='#087E8B')\n",
    "plt.title('Feature importances - for lasso regresion')\n",
    "plt.xticks(rotation='vertical')\n",
    "plt.show()"
   ]
  },
  {
   "cell_type": "markdown",
   "id": "37867021",
   "metadata": {},
   "source": [
    "**For lasso regression, we use features' coefficient as features importance coefficient, the model is fit after scaling so it is reasonable to compare this coefficient. The features that have larger coefficient could influenced the lasso regression more when it changes thus we think they are more important. From the plot above, in lasso regression T3,RH_1, RH_2, RH_8, T9 are features that are more important in these 27 features.**"
   ]
  },
  {
   "cell_type": "markdown",
   "id": "9a8db2da",
   "metadata": {},
   "source": [
    "### Decision Tree Feature Importance"
   ]
  },
  {
   "cell_type": "code",
   "execution_count": 88,
   "id": "a56550d0",
   "metadata": {
    "scrolled": false
   },
   "outputs": [
    {
     "data": {
      "text/html": [
       "<div>\n",
       "<style scoped>\n",
       "    .dataframe tbody tr th:only-of-type {\n",
       "        vertical-align: middle;\n",
       "    }\n",
       "\n",
       "    .dataframe tbody tr th {\n",
       "        vertical-align: top;\n",
       "    }\n",
       "\n",
       "    .dataframe thead th {\n",
       "        text-align: right;\n",
       "    }\n",
       "</style>\n",
       "<table border=\"1\" class=\"dataframe\">\n",
       "  <thead>\n",
       "    <tr style=\"text-align: right;\">\n",
       "      <th></th>\n",
       "      <th>featurename</th>\n",
       "      <th>treelevel</th>\n",
       "    </tr>\n",
       "  </thead>\n",
       "  <tbody>\n",
       "    <tr>\n",
       "      <th>52</th>\n",
       "      <td>lights</td>\n",
       "      <td>0</td>\n",
       "    </tr>\n",
       "    <tr>\n",
       "      <th>24</th>\n",
       "      <td>RH_out</td>\n",
       "      <td>1</td>\n",
       "    </tr>\n",
       "    <tr>\n",
       "      <th>23</th>\n",
       "      <td>RH_1</td>\n",
       "      <td>2</td>\n",
       "    </tr>\n",
       "    <tr>\n",
       "      <th>10</th>\n",
       "      <td>T3</td>\n",
       "      <td>2</td>\n",
       "    </tr>\n",
       "    <tr>\n",
       "      <th>36</th>\n",
       "      <td>Windspeed</td>\n",
       "      <td>2</td>\n",
       "    </tr>\n",
       "    <tr>\n",
       "      <th>50</th>\n",
       "      <td>RH_6</td>\n",
       "      <td>2</td>\n",
       "    </tr>\n",
       "    <tr>\n",
       "      <th>4</th>\n",
       "      <td>RH_1</td>\n",
       "      <td>3</td>\n",
       "    </tr>\n",
       "    <tr>\n",
       "      <th>35</th>\n",
       "      <td>T3</td>\n",
       "      <td>3</td>\n",
       "    </tr>\n",
       "    <tr>\n",
       "      <th>22</th>\n",
       "      <td>T1</td>\n",
       "      <td>3</td>\n",
       "    </tr>\n",
       "    <tr>\n",
       "      <th>9</th>\n",
       "      <td>RH_2</td>\n",
       "      <td>3</td>\n",
       "    </tr>\n",
       "    <tr>\n",
       "      <th>30</th>\n",
       "      <td>lights</td>\n",
       "      <td>3</td>\n",
       "    </tr>\n",
       "    <tr>\n",
       "      <th>16</th>\n",
       "      <td>RH_8</td>\n",
       "      <td>3</td>\n",
       "    </tr>\n",
       "    <tr>\n",
       "      <th>49</th>\n",
       "      <td>T_out</td>\n",
       "      <td>3</td>\n",
       "    </tr>\n",
       "    <tr>\n",
       "      <th>42</th>\n",
       "      <td>RH_2</td>\n",
       "      <td>4</td>\n",
       "    </tr>\n",
       "    <tr>\n",
       "      <th>32</th>\n",
       "      <td>RH_3</td>\n",
       "      <td>4</td>\n",
       "    </tr>\n",
       "    <tr>\n",
       "      <th>46</th>\n",
       "      <td>lights</td>\n",
       "      <td>4</td>\n",
       "    </tr>\n",
       "    <tr>\n",
       "      <th>39</th>\n",
       "      <td>T6</td>\n",
       "      <td>4</td>\n",
       "    </tr>\n",
       "    <tr>\n",
       "      <th>34</th>\n",
       "      <td>T5</td>\n",
       "      <td>4</td>\n",
       "    </tr>\n",
       "    <tr>\n",
       "      <th>21</th>\n",
       "      <td>RH_4</td>\n",
       "      <td>4</td>\n",
       "    </tr>\n",
       "    <tr>\n",
       "      <th>19</th>\n",
       "      <td>rv1</td>\n",
       "      <td>4</td>\n",
       "    </tr>\n",
       "    <tr>\n",
       "      <th>2</th>\n",
       "      <td>RH_7</td>\n",
       "      <td>4</td>\n",
       "    </tr>\n",
       "    <tr>\n",
       "      <th>12</th>\n",
       "      <td>RH_8</td>\n",
       "      <td>4</td>\n",
       "    </tr>\n",
       "    <tr>\n",
       "      <th>3</th>\n",
       "      <td>T1</td>\n",
       "      <td>4</td>\n",
       "    </tr>\n",
       "    <tr>\n",
       "      <th>8</th>\n",
       "      <td>RH_1</td>\n",
       "      <td>4</td>\n",
       "    </tr>\n",
       "    <tr>\n",
       "      <th>7</th>\n",
       "      <td>T2</td>\n",
       "      <td>4</td>\n",
       "    </tr>\n",
       "    <tr>\n",
       "      <th>1</th>\n",
       "      <td>Press_mm_hg</td>\n",
       "      <td>5</td>\n",
       "    </tr>\n",
       "    <tr>\n",
       "      <th>45</th>\n",
       "      <td>T8</td>\n",
       "      <td>5</td>\n",
       "    </tr>\n",
       "    <tr>\n",
       "      <th>41</th>\n",
       "      <td>Windspeed</td>\n",
       "      <td>5</td>\n",
       "    </tr>\n",
       "    <tr>\n",
       "      <th>5</th>\n",
       "      <td>RH_1</td>\n",
       "      <td>5</td>\n",
       "    </tr>\n",
       "    <tr>\n",
       "      <th>6</th>\n",
       "      <td>RH_5</td>\n",
       "      <td>5</td>\n",
       "    </tr>\n",
       "    <tr>\n",
       "      <th>20</th>\n",
       "      <td>RH_2</td>\n",
       "      <td>5</td>\n",
       "    </tr>\n",
       "    <tr>\n",
       "      <th>33</th>\n",
       "      <td>RH_3</td>\n",
       "      <td>5</td>\n",
       "    </tr>\n",
       "    <tr>\n",
       "      <th>11</th>\n",
       "      <td>T7</td>\n",
       "      <td>5</td>\n",
       "    </tr>\n",
       "    <tr>\n",
       "      <th>31</th>\n",
       "      <td>Visibility</td>\n",
       "      <td>5</td>\n",
       "    </tr>\n",
       "    <tr>\n",
       "      <th>13</th>\n",
       "      <td>RH_8</td>\n",
       "      <td>5</td>\n",
       "    </tr>\n",
       "    <tr>\n",
       "      <th>17</th>\n",
       "      <td>T1</td>\n",
       "      <td>5</td>\n",
       "    </tr>\n",
       "    <tr>\n",
       "      <th>38</th>\n",
       "      <td>T6</td>\n",
       "      <td>5</td>\n",
       "    </tr>\n",
       "    <tr>\n",
       "      <th>0</th>\n",
       "      <td>T5</td>\n",
       "      <td>5</td>\n",
       "    </tr>\n",
       "  </tbody>\n",
       "</table>\n",
       "</div>"
      ],
      "text/plain": [
       "    featurename  treelevel\n",
       "52       lights          0\n",
       "24       RH_out          1\n",
       "23         RH_1          2\n",
       "10           T3          2\n",
       "36    Windspeed          2\n",
       "50         RH_6          2\n",
       "4          RH_1          3\n",
       "35           T3          3\n",
       "22           T1          3\n",
       "9          RH_2          3\n",
       "30       lights          3\n",
       "16         RH_8          3\n",
       "49        T_out          3\n",
       "42         RH_2          4\n",
       "32         RH_3          4\n",
       "46       lights          4\n",
       "39           T6          4\n",
       "34           T5          4\n",
       "21         RH_4          4\n",
       "19          rv1          4\n",
       "2          RH_7          4\n",
       "12         RH_8          4\n",
       "3            T1          4\n",
       "8          RH_1          4\n",
       "7            T2          4\n",
       "1   Press_mm_hg          5\n",
       "45           T8          5\n",
       "41    Windspeed          5\n",
       "5          RH_1          5\n",
       "6          RH_5          5\n",
       "20         RH_2          5\n",
       "33         RH_3          5\n",
       "11           T7          5\n",
       "31   Visibility          5\n",
       "13         RH_8          5\n",
       "17           T1          5\n",
       "38           T6          5\n",
       "0            T5          5"
      ]
     },
     "execution_count": 88,
     "metadata": {},
     "output_type": "execute_result"
    }
   ],
   "source": [
    "dtFeatures = pd.DataFrame(dtModel_5.get_features())\n",
    "dtFeatures.columns = ['featurename','treelevel']\n",
    "dtFeatures = dtFeatures.drop_duplicates()\n",
    "dtFeatures.sort_values('treelevel')"
   ]
  },
  {
   "cell_type": "code",
   "execution_count": 187,
   "id": "86ebe7c7",
   "metadata": {},
   "outputs": [
    {
     "data": {
      "image/png": "[encoded data removed]",
      "text/plain": [
       "<Figure size 1332x756 with 1 Axes>"
      ]
     },
     "metadata": {
      "needs_background": "light"
     },
     "output_type": "display_data"
    }
   ],
   "source": [
    "perm_importance_result_train = permutation_importance(dtModel_5, x_train, y_train, n_repeats=10)\n",
    "\n",
    "fig=plot_feature_importances(perm_importance_result_train, x_train.columns)"
   ]
  },
  {
   "cell_type": "markdown",
   "id": "82c51ffa",
   "metadata": {},
   "source": [
    "**In decision Tree, the features that included in the tree plot are important features, the whole tree is determine by these feature as in the dataframe above, the features included in the table are lights,RH_out,RH_1,T3,Windspeed... and so on, sort by the tree level.**\n",
    "\n",
    "**And also we could apply the function above to our decision tree model. It could rank our features by importance with permutation method. From the plot above, we could find that the most important features is RH_our, then lights, RH_1, T3, Windspeed, Visibility,T5,RH_2,RH_8,T1 (these are top 10 important features).**"
   ]
  },
  {
   "cell_type": "markdown",
   "id": "1d50c084",
   "metadata": {},
   "source": [
    "### Random Forest Feature Importance"
   ]
  },
  {
   "cell_type": "code",
   "execution_count": 188,
   "id": "67f56b23",
   "metadata": {},
   "outputs": [
    {
     "data": {
      "image/png": "[encoded data removed]",
      "text/plain": [
       "<Figure size 1332x756 with 1 Axes>"
      ]
     },
     "metadata": {
      "needs_background": "light"
     },
     "output_type": "display_data"
    }
   ],
   "source": [
    "perm_importance_result_train = permutation_importance(rfr, x_train, y_train, n_repeats=10)\n",
    "\n",
    "plot_feature_importances(perm_importance_result_train, x_train.columns)"
   ]
  },
  {
   "cell_type": "markdown",
   "id": "8a82c1db",
   "metadata": {},
   "source": [
    "**For Random Forest: from the plot above, we could find that the most important features is lights, then RH_out, RH_1,RH_8,RH_6,T2,RH_3,T3,T5,T6.(top 10 features). And the lights, the top one, has the score that much more higher than others.**"
   ]
  },
  {
   "cell_type": "markdown",
   "id": "e986bb29",
   "metadata": {},
   "source": [
    "### Gradient Boosting"
   ]
  },
  {
   "cell_type": "code",
   "execution_count": 189,
   "id": "7d7958ad",
   "metadata": {},
   "outputs": [
    {
     "data": {
      "image/png": "[encoded data removed]",
      "text/plain": [
       "<Figure size 1332x756 with 1 Axes>"
      ]
     },
     "metadata": {
      "needs_background": "light"
     },
     "output_type": "display_data"
    }
   ],
   "source": [
    "perm_importance_result_train = permutation_importance(gradBoostModel1, x_train, y_train, n_repeats=5)\n",
    "\n",
    "plot_feature_importances(perm_importance_result_train, x_train.columns)"
   ]
  },
  {
   "cell_type": "markdown",
   "id": "807c405b",
   "metadata": {},
   "source": [
    "**For our gradient boosting model: from the plot above, we could find that the most important features is RH_1, then T3,RH_2,T1,RH_3,T4,T5,RH_4,T7,T9.(Top 10 features) And the RH_1 score is much more higher than others.**"
   ]
  }
 ],
 "metadata": {
  "kernelspec": {
   "display_name": "Python 3 (ipykernel)",
   "language": "python",
   "name": "python3"
  },
  "language_info": {
   "codemirror_mode": {
    "name": "ipython",
    "version": 3
   },
   "file_extension": ".py",
   "mimetype": "text/x-python",
   "name": "python",
   "nbconvert_exporter": "python",
   "pygments_lexer": "ipython3",
   "version": "3.10.2"
  }
 },
 "nbformat": 4,
 "nbformat_minor": 5
}
